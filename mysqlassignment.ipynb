{
 "cells": [
  {
   "cell_type": "code",
   "execution_count": null,
   "id": "3a24de25-08b8-4f97-934e-f66ddbca183d",
   "metadata": {},
   "outputs": [],
   "source": [
    "Q1. What is a database? Differentiate between SQL and NoSQL databases."
   ]
  },
  {
   "cell_type": "code",
   "execution_count": null,
   "id": "00d3838b-08cf-4384-bc00-76fa3d9b4f2b",
   "metadata": {},
   "outputs": [],
   "source": [
    "a database is a structural collection of data that is organised stored in a way that allow to efficient retrival, updating and management of information.database used in management large data."
   ]
  },
  {
   "cell_type": "code",
   "execution_count": null,
   "id": "855a8952-f97b-47f8-807d-e0bca09918c1",
   "metadata": {},
   "outputs": [],
   "source": [
    "SQL-structured query language \n",
    "MySQL, PostgreSQL, Oracle, SQL Server are popular SQL databases.\n",
    "NoSQL-not only structured query language\n",
    "MongoDB (document-oriented), Cassandra (column-family), Redis (key-value), Neo4j (graph) are popular NoSQL databases."
   ]
  },
  {
   "cell_type": "code",
   "execution_count": null,
   "id": "44f1e6ae-96f5-4882-aa52-8df5c9416d2e",
   "metadata": {},
   "outputs": [],
   "source": [
    "Q2. What is DDL? Explain why CREATE, DROP, ALTER, and TRUNCATE are used with an example."
   ]
  },
  {
   "cell_type": "code",
   "execution_count": null,
   "id": "e47f2ed4-050c-481f-9cdf-0454dfaa2e59",
   "metadata": {},
   "outputs": [],
   "source": [
    "DDL stands for data definition language .it is subset of SQL(structured query language) it is used for defining managing relation database. "
   ]
  },
  {
   "cell_type": "code",
   "execution_count": null,
   "id": "d3c6d943-bd2b-4abb-bd6c-bfa40b7b2c29",
   "metadata": {},
   "outputs": [],
   "source": [
    "CREATE TABLE table_name(c1 INT ,c2 VARCHAR(70) ,c3 FLOAT,)\n",
    "DROP table\n",
    "ALTER table\n",
    "TRUNCATE table"
   ]
  },
  {
   "cell_type": "code",
   "execution_count": null,
   "id": "58fbd00b-14e4-412e-b9b6-8e5c85ea5e7d",
   "metadata": {},
   "outputs": [],
   "source": [
    "Q3. What is DML? Explain INSERT, UPDATE, and DELETE with an example."
   ]
  },
  {
   "cell_type": "code",
   "execution_count": null,
   "id": "72380d8a-a956-4530-9207-78248e565fca",
   "metadata": {},
   "outputs": [],
   "source": [
    "DML stand for data manipulation language .it is subset of SQL(structured query language) used for managing data relation database."
   ]
  },
  {
   "cell_type": "code",
   "execution_count": null,
   "id": "823ea962-f217-4df2-aff9-392c2cd60298",
   "metadata": {},
   "outputs": [],
   "source": [
    "INSERT INTO table_name(column1 ,column2);\n",
    "value (value1 ,value2)"
   ]
  },
  {
   "cell_type": "code",
   "execution_count": null,
   "id": "ece757d4-7047-4548-b04a-dcfd6a8a0ce0",
   "metadata": {},
   "outputs": [],
   "source": [
    "UPDATE table_name\n",
    "SET column1=value1 ,column2=value2"
   ]
  },
  {
   "cell_type": "code",
   "execution_count": null,
   "id": "909171b0-7ead-4a9a-9ee2-669bdedee97b",
   "metadata": {},
   "outputs": [],
   "source": [
    "DELETE from table_name"
   ]
  },
  {
   "cell_type": "code",
   "execution_count": null,
   "id": "add638ef-6bb8-4cd1-ab45-398f35767c30",
   "metadata": {},
   "outputs": [],
   "source": [
    "Q4. What is DQL? Explain SELECT with an example."
   ]
  },
  {
   "cell_type": "code",
   "execution_count": null,
   "id": "403abd08-2bbd-4b00-97b4-5d74acd2b674",
   "metadata": {},
   "outputs": [],
   "source": [
    "DQL stands for Data Query Language. It is a subset of SQL (Structured Query Language) used for querying and retrieving data from a database. "
   ]
  },
  {
   "cell_type": "code",
   "execution_count": null,
   "id": "a4eb3772-370f-47d3-944b-c1e016ee8617",
   "metadata": {},
   "outputs": [],
   "source": [
    "SELECT * from table_name"
   ]
  },
  {
   "cell_type": "code",
   "execution_count": null,
   "id": "21dcc55e-82d2-42c8-b08f-78a70ca646e5",
   "metadata": {},
   "outputs": [],
   "source": [
    "Q5. Explain Primary Key and Foreign Key."
   ]
  },
  {
   "cell_type": "code",
   "execution_count": null,
   "id": "92c11c82-8ef9-49e7-8b98-9f6a0fd0e8e0",
   "metadata": {},
   "outputs": [],
   "source": [
    "A primary key is a unique identifier for a record in a database table. It uniquely identifies each record in the table, ensuring that there are no duplicate values within the primary key column. Here are some key points about primary keys:\n",
    "    1.uniqueness\n",
    "    2.not null"
   ]
  },
  {
   "cell_type": "code",
   "execution_count": null,
   "id": "87936a76-e3dd-4958-982f-09072955a31b",
   "metadata": {},
   "outputs": [],
   "source": [
    "A foreign key is a field in a database table that is used to establish a link between two tables. It creates a relationship between the data in two tables and is used to match rows in the referencing table with the primary key columns in the referenced table. Here are the key points about foreign keys:\n",
    "    1.reference a primary key\n",
    "    2.maintains referential integrity"
   ]
  },
  {
   "cell_type": "code",
   "execution_count": null,
   "id": "5e1305ae-f4be-4c11-8629-3838fea6e1ad",
   "metadata": {},
   "outputs": [],
   "source": [
    "Q6. Write a python code to connect MySQL to python. Explain the cursor() and execute() method."
   ]
  },
  {
   "cell_type": "code",
   "execution_count": null,
   "id": "391c3c29-ee9a-4a26-b755-9d424a9fabed",
   "metadata": {},
   "outputs": [],
   "source": [
    "mysql.connector\n",
    "mydb=mysql.connector.connect(\n",
    "    host=\"localhost\"\n",
    "    user=\"abc\"\n",
    "    password=\"password\"\n",
    ")\n",
    "print(mydb)\n",
    "mycursor=mydb.cursor()\n",
    "mycursor.execute(\"SHOW DATABASE\")\n",
    "\n"
   ]
  },
  {
   "cell_type": "code",
   "execution_count": null,
   "id": "12de3ddb-3b97-4d81-8b4a-ba89fa45f6ad",
   "metadata": {},
   "outputs": [],
   "source": [
    "Q7. Give the order of execution of SQL clauses in an SQL query."
   ]
  },
  {
   "cell_type": "code",
   "execution_count": null,
   "id": "0459224c-1bd1-4055-8540-e0740108b360",
   "metadata": {},
   "outputs": [],
   "source": []
  }
 ],
 "metadata": {
  "kernelspec": {
   "display_name": "Python 3 (ipykernel)",
   "language": "python",
   "name": "python3"
  },
  "language_info": {
   "codemirror_mode": {
    "name": "ipython",
    "version": 3
   },
   "file_extension": ".py",
   "mimetype": "text/x-python",
   "name": "python",
   "nbconvert_exporter": "python",
   "pygments_lexer": "ipython3",
   "version": "3.10.8"
  }
 },
 "nbformat": 4,
 "nbformat_minor": 5
}
